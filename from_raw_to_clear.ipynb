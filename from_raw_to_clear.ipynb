{
 "cells": [
  {
   "cell_type": "code",
   "execution_count": null,
   "metadata": {},
   "outputs": [],
   "source": [
    "from bs4 import BeautifulSoup\n",
    "\n",
    "# Your HTML content\n",
    "file = open('raw_data.txt', 'r+')\n",
    "answer = open('data.txt', 'w+')\n",
    "html_content = file.readlines()\n",
    "# html_content = html_content.replace('<span>', '<span>').replace('</span>', '</span>,').replace('&nbsp;', ' ').replace(' ⁠','').replace(' ', ' ')\n",
    "\n",
    "for s in html_content:\n",
    "    s = s.replace('<span>', '<span>').replace('</span>', '</span>,').replace('&nbsp;', ' ').replace(' ⁠', '').replace(\n",
    "        ' ', ' ')\n",
    "    # Parse the HTML content\n",
    "    soup = BeautifulSoup(s, 'html.parser')\n",
    "    row = soup.get_text().split(',')\n",
    "    # Extract and print all the text\n",
    "    if row[7] == 'Россия':\n",
    "        row.insert(10, ' • ')\n",
    "        row.insert(13, '')\n",
    "    if row[7] == 'Аэрофлот':\n",
    "        assd = row\n",
    "    try:\n",
    "        from_to = row[0]\n",
    "        time_in_air = row[5]\n",
    "        airlines = row[7]\n",
    "        race_number = row[9]\n",
    "        plane = row[12]\n",
    "        airport_dep = row[-15]\n",
    "        time_arr = row[-14]\n",
    "        time_dep = row[-20]\n",
    "        airport_arr = row[-9]\n",
    "        price = row[-7][:-1]\n",
    "        hand_luggage = row[-5]\n",
    "        baggage = row[-4]\n",
    "        ticket_return = row[-3]\n",
    "        ticket_exchange = row[-2]\n",
    "        needed_info = [from_to, time_in_air, airlines, race_number, airport_dep, airport_arr, time_dep, time_arr, plane,\n",
    "                       hand_luggage, baggage, ticket_exchange, ticket_return, price, '\\n']\n",
    "        answer.write(', '.join(needed_info))\n",
    "    except:\n",
    "        print(row)\n",
    "file.close()\n",
    "answer.close()"
   ]
  }
 ],
 "metadata": {
  "language_info": {
   "name": "python"
  }
 },
 "nbformat": 4,
 "nbformat_minor": 2
}
