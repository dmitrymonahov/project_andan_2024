{
 "cells": [
  {
   "cell_type": "code",
   "execution_count": 2,
   "metadata": {},
   "outputs": [],
   "source": [
    "import pandas as pd\n",
    "from bs4 import BeautifulSoup\n",
    "import webbrowser"
   ]
  },
  {
   "cell_type": "code",
   "execution_count": 25,
   "metadata": {},
   "outputs": [
    {
     "data": {
      "text/plain": [
       "True"
      ]
     },
     "execution_count": 25,
     "metadata": {},
     "output_type": "execute_result"
    }
   ],
   "source": [
    "df_for_32 = pd.DataFrame()\n",
    "with open(\"C:\\\\Users\\\\dmona\\\\Downloads\\\\tuturu.txt\", \"r\", encoding=\"utf-8\") as file:\n",
    "    for j, line in enumerate(file, start=0):\n",
    "        soup = BeautifulSoup(line, \"html.parser\")\n",
    "        data = {}\n",
    "        i = 1\n",
    "        spans = soup.find_all(\"span\")\n",
    "        len_spans = len(spans)\n",
    "        if spans[3].text.strip() == 'прямой':\n",
    "            if len_spans == 29:\n",
    "                for span in spans:\n",
    "                    if i != 12:\n",
    "                        data[f\"Column_{i}\"] = [span.text.strip()]\n",
    "                    else:\n",
    "                        data[f\"Column_{12}\"] = ['']\n",
    "                        data[f\"Column_{13}\"] = ['']\n",
    "                        data[f\"Column_{14}\"] = ['']\n",
    "                        data[f\"Column_{15}\"] = ['']\n",
    "                        i += 3\n",
    "                    i += 1\n",
    "            if len_spans == 30:\n",
    "                for span in spans:\n",
    "                    if i != 13:\n",
    "                        data[f\"Column_{i}\"] = [span.text.strip()]\n",
    "                    else:\n",
    "                        data[f\"Column_{13}\"] = ['']\n",
    "                        data[f\"Column_{14}\"] = ['']\n",
    "                        data[f\"Column_{15}\"] = ['']\n",
    "                        i += 2\n",
    "                    i += 1\n",
    "            if len_spans == 31:\n",
    "                for span in spans:\n",
    "                    if span.text.strip() != '+1':\n",
    "                        if i != 12:\n",
    "                            data[f\"Column_{i}\"] = [span.text.strip()]\n",
    "                        elif i == 12:\n",
    "                            data[f\"Column_{12}\"] = ['']\n",
    "                            data[f\"Column_{13}\"] = ['']\n",
    "                            data[f\"Column_{14}\"] = ['']\n",
    "                            data[f\"Column_{15}\"] = ['']\n",
    "                            i += 3\n",
    "                        i += 1\n",
    "            if len_spans == 32:\n",
    "                if spans[22].text.strip() == '+1':\n",
    "                    for span in spans:\n",
    "                        if span.text.strip() != '+1':\n",
    "                            if i != 13:\n",
    "                                data[f\"Column_{i}\"] = [span.text.strip()]\n",
    "                            elif i == 13:\n",
    "                                data[f\"Column_{13}\"] = ['']\n",
    "                                data[f\"Column_{14}\"] = ['']\n",
    "                                data[f\"Column_{15}\"] = ['']\n",
    "                                i += 2\n",
    "                            i += 1\n",
    "                else:\n",
    "                    for span in spans:\n",
    "                        data[f\"Column_{i}\"] = [span.text.strip()]\n",
    "                        i+= 1\n",
    "            if len_spans == 33:\n",
    "                for span in spans:\n",
    "                    if i < 15:\n",
    "                        data[f\"Column_{i}\"] = [span.text.strip()]\n",
    "                    if i > 15:\n",
    "                        data[f\"Column_{i-1}\"] = [span.text.strip()]\n",
    "                    i += 1\n",
    "            if len_spans == 34:\n",
    "                for span in spans:\n",
    "                    if i < 24:\n",
    "                        data[f\"Column_{i}\"] = [span.text.strip()]\n",
    "                    if i > 25:\n",
    "                        data[f\"Column_{i-2}\"] = [span.text.strip()]\n",
    "                    i += 1\n",
    "            if len_spans == 35:\n",
    "                    for span in spans:\n",
    "                        if i < 10:\n",
    "                            data[f\"Column_{i}\"] = [span.text.strip()]\n",
    "                        if i > 10 and i < 25:\n",
    "                            data[f\"Column_{i-1}\"] = [span.text.strip()]\n",
    "                        if i > 26:\n",
    "                            data[f\"Column_{i-3}\"] = [span.text.strip()]\n",
    "                        i += 1\n",
    "            new_row = pd.DataFrame(data)\n",
    "            df_for_32 = pd.concat([df_for_32, new_row], ignore_index=True)\n",
    "html_table = df_for_32.to_html()\n",
    "\n",
    "# Записываем HTML-таблицу в файл\n",
    "with open(\"df_table.html\", \"w\", encoding=\"utf-8\") as file:\n",
    "    file.write(html_table)\n",
    "\n",
    "# Открываем файл в веб-браузере\n",
    "webbrowser.open(\"df_table.html\")\n",
    "\n"
   ]
  },
  {
   "cell_type": "code",
   "execution_count": 26,
   "metadata": {},
   "outputs": [],
   "source": [
    "final_df = pd.DataFrame()\n",
    "\n",
    "final_df['Маршрут'] = df_for_32['Column_1']\n",
    "final_df['Время в пути'] = df_for_32['Column_6']\n",
    "final_df['Авиакомпания'] = df_for_32['Column_9']\n",
    "final_df['Рейс'] = df_for_32['Column_11']\n",
    "final_df['Модель самолета'] = df_for_32['Column_13']\n",
    "final_df['Время вылета'] = df_for_32['Column_18']\n",
    "final_df['Дата вылета'] = df_for_32['Column_19']\n",
    "final_df['Откуда'] = df_for_32['Column_20']\n",
    "final_df['Время прилета'] = df_for_32['Column_22']\n",
    "final_df['Дата прилета'] = df_for_32['Column_23']\n",
    "final_df['Куда'] = df_for_32['Column_24']\n",
    "final_df['Цена билета'] = df_for_32['Column_27']\n",
    "final_df['Ручная кладь'] = df_for_32['Column_29']\n",
    "final_df['Багаж'] = df_for_32['Column_30']\n",
    "final_df['Возврат'] = df_for_32['Column_31']\n",
    "final_df['Обмен'] = df_for_32['Column_32']"
   ]
  },
  {
   "cell_type": "code",
   "execution_count": 27,
   "metadata": {},
   "outputs": [
    {
     "data": {
      "text/plain": [
       "True"
      ]
     },
     "execution_count": 27,
     "metadata": {},
     "output_type": "execute_result"
    }
   ],
   "source": [
    "html_table = final_df.to_html()\n",
    "\n",
    "# Записываем HTML-таблицу в файл\n",
    "with open(\"df_table.html\", \"w\", encoding=\"utf-8\") as file:\n",
    "    file.write(html_table)\n",
    "\n",
    "# Открываем файл в веб-браузере\n",
    "webbrowser.open(\"df_table.html\")"
   ]
  }
 ],
 "metadata": {
  "kernelspec": {
   "display_name": "Python 3",
   "language": "python",
   "name": "python3"
  },
  "language_info": {
   "codemirror_mode": {
    "name": "ipython",
    "version": 3
   },
   "file_extension": ".py",
   "mimetype": "text/x-python",
   "name": "python",
   "nbconvert_exporter": "python",
   "pygments_lexer": "ipython3",
   "version": "3.11.8"
  }
 },
 "nbformat": 4,
 "nbformat_minor": 2
}
