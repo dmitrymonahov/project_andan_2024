{
 "cells": [
  {
   "cell_type": "code",
   "execution_count": 129,
   "metadata": {},
   "outputs": [],
   "source": [
    "#импорт нужных и ненужных библиотек\n",
    "import pandas as pd\n",
    "from bs4 import BeautifulSoup\n",
    "import webbrowser\n",
    "import numpy as np\n",
    "import codecs\n",
    "from datetime import datetime\n",
    "import calendar"
   ]
  },
  {
   "cell_type": "code",
   "execution_count": 130,
   "metadata": {},
   "outputs": [],
   "source": [
    "#обработка изначального спарсенного текста: выбираем только прямые рейсы, приводим к одному формату датафрейма\n",
    "df_for_32 = pd.DataFrame()\n",
    "with open(\"C:\\\\Users\\\\dmona\\\\Downloads\\\\tuturu.txt\", \"r\", encoding=\"utf-8\") as file:\n",
    "    for j, line in enumerate(file, start=0):\n",
    "        soup = BeautifulSoup(line, \"html.parser\")\n",
    "        data = {}\n",
    "        i = 1\n",
    "        spans = soup.find_all(\"span\")\n",
    "        len_spans = len(spans)\n",
    "        if spans[3].text.strip() == 'прямой':\n",
    "            if len_spans == 29:\n",
    "                for span in spans:\n",
    "                    if i != 12:\n",
    "                        data[f\"Column_{i}\"] = [span.text.strip()]\n",
    "                    else:\n",
    "                        data[f\"Column_{12}\"] = ['']\n",
    "                        data[f\"Column_{13}\"] = ['']\n",
    "                        data[f\"Column_{14}\"] = ['']\n",
    "                        data[f\"Column_{15}\"] = ['']\n",
    "                        i += 3\n",
    "                    i += 1\n",
    "            if len_spans == 30:\n",
    "                for span in spans:\n",
    "                    if i != 13:\n",
    "                        data[f\"Column_{i}\"] = [span.text.strip()]\n",
    "                    else:\n",
    "                        data[f\"Column_{13}\"] = ['']\n",
    "                        data[f\"Column_{14}\"] = ['']\n",
    "                        data[f\"Column_{15}\"] = ['']\n",
    "                        i += 2\n",
    "                    i += 1\n",
    "            if len_spans == 31:\n",
    "                for span in spans:\n",
    "                    if span.text.strip() != '+1':\n",
    "                        if i != 12:\n",
    "                            data[f\"Column_{i}\"] = [span.text.strip()]\n",
    "                        elif i == 12:\n",
    "                            data[f\"Column_{12}\"] = ['']\n",
    "                            data[f\"Column_{13}\"] = ['']\n",
    "                            data[f\"Column_{14}\"] = ['']\n",
    "                            data[f\"Column_{15}\"] = ['']\n",
    "                            i += 3\n",
    "                        i += 1\n",
    "            if len_spans == 32:\n",
    "                if spans[22].text.strip() == '+1':\n",
    "                    for span in spans:\n",
    "                        if span.text.strip() != '+1':\n",
    "                            if i != 13:\n",
    "                                data[f\"Column_{i}\"] = [span.text.strip()]\n",
    "                            elif i == 13:\n",
    "                                data[f\"Column_{13}\"] = ['']\n",
    "                                data[f\"Column_{14}\"] = ['']\n",
    "                                data[f\"Column_{15}\"] = ['']\n",
    "                                i += 2\n",
    "                            i += 1\n",
    "                else:\n",
    "                    for span in spans:\n",
    "                        data[f\"Column_{i}\"] = [span.text.strip()]\n",
    "                        i+= 1\n",
    "            if len_spans == 33:\n",
    "                for span in spans:\n",
    "                    if i < 15:\n",
    "                        data[f\"Column_{i}\"] = [span.text.strip()]\n",
    "                    if i > 15:\n",
    "                        data[f\"Column_{i-1}\"] = [span.text.strip()]\n",
    "                    i += 1\n",
    "            if len_spans == 34:\n",
    "                for span in spans:\n",
    "                    if i < 24:\n",
    "                        data[f\"Column_{i}\"] = [span.text.strip()]\n",
    "                    if i > 25:\n",
    "                        data[f\"Column_{i-2}\"] = [span.text.strip()]\n",
    "                    i += 1\n",
    "            if len_spans == 35:\n",
    "                    for span in spans:\n",
    "                        if i < 10:\n",
    "                            data[f\"Column_{i}\"] = [span.text.strip()]\n",
    "                        if i > 10 and i < 25:\n",
    "                            data[f\"Column_{i-1}\"] = [span.text.strip()]\n",
    "                        if i > 26:\n",
    "                            data[f\"Column_{i-3}\"] = [span.text.strip()]\n",
    "                        i += 1\n",
    "            new_row = pd.DataFrame(data)\n",
    "            df_for_32 = pd.concat([df_for_32, new_row], ignore_index=True)"
   ]
  },
  {
   "cell_type": "code",
   "execution_count": 131,
   "metadata": {},
   "outputs": [],
   "source": [
    "# перевод исходного датафрейма в датафрейм с понятными названиями\n",
    "final_df = pd.DataFrame()\n",
    "\n",
    "final_df['Маршрут'] = df_for_32['Column_1']\n",
    "final_df['Время в пути'] = df_for_32['Column_6']\n",
    "final_df['Авиакомпания'] = df_for_32['Column_9']\n",
    "final_df['Рейс'] = df_for_32['Column_11']\n",
    "final_df['Модель самолета'] = df_for_32['Column_13']\n",
    "final_df['Время вылета'] = df_for_32['Column_18']\n",
    "final_df['Дата вылета'] = df_for_32['Column_19']\n",
    "final_df['Откуда'] = df_for_32['Column_20']\n",
    "final_df['Время прилета'] = df_for_32['Column_22']\n",
    "final_df['Дата прилета'] = df_for_32['Column_23']\n",
    "final_df['Куда'] = df_for_32['Column_24']\n",
    "final_df['Цена билета'] = df_for_32['Column_27']\n",
    "final_df['Ручная кладь'] = df_for_32['Column_29']\n",
    "final_df['Багаж'] = df_for_32['Column_30']\n",
    "final_df['Возврат'] = df_for_32['Column_31']\n",
    "final_df['Обмен'] = df_for_32['Column_32']"
   ]
  },
  {
   "cell_type": "code",
   "execution_count": 132,
   "metadata": {},
   "outputs": [
    {
     "name": "stderr",
     "output_type": "stream",
     "text": [
      "C:\\Users\\dmona\\AppData\\Local\\Temp\\ipykernel_12320\\3422417952.py:7: FutureWarning: DataFrame.applymap has been deprecated. Use DataFrame.map instead.\n",
      "  final_df = final_df.applymap(normal_string)\n"
     ]
    }
   ],
   "source": [
    "#перевод всех элементов в датафрейме в удобный формат строк\n",
    "def normal_string(kringe):\n",
    "    kringe = str(kringe)\n",
    "    kringe = kringe.replace('\\u202f', '')\n",
    "    kringe = kringe.replace('\\xa0', '')\n",
    "    return kringe\n",
    "final_df = final_df.applymap(normal_string)\n",
    "final_df['Время вылета'] = final_df['Время вылета'].apply(lambda x: None if x == '' else x)\n",
    "final_df = final_df.dropna()"
   ]
  },
  {
   "cell_type": "code",
   "execution_count": 133,
   "metadata": {},
   "outputs": [],
   "source": [
    "#функция для обработки времени в пути\n",
    "def time_in_air (stringe):\n",
    "    if stringe.find('м') != -1:\n",
    "        return int(stringe[0: stringe.find('ч')]) * 60 +  int(stringe[stringe.find('ч') + 1: stringe.find('м')])\n",
    "    else:\n",
    "        return int(stringe[0: stringe.find('ч')]) * 60\n",
    "final_df['Время в пути'] = final_df['Время в пути'].apply(time_in_air)"
   ]
  },
  {
   "cell_type": "code",
   "execution_count": 134,
   "metadata": {},
   "outputs": [],
   "source": [
    "#функция для обработки дат вылета и прилета\n",
    "days_of_week = {'пн': 1, 'вт': 2, 'ср': 3, 'чт': 4, 'пт': 5, 'сб': 6, 'вс': 7}\n",
    "months = {'июня': '06 ', 'июля' : '07 ', 'августа': '08 '}\n",
    "def normal_date(cringe_date):\n",
    "    if cringe_date != '':\n",
    "        if cringe_date[0].isdigit():\n",
    "            day = cringe_date[0: cringe_date.find(' ')]\n",
    "            month = cringe_date[cringe_date.find(' ') + 1: cringe_date.find(',')]\n",
    "            day_of_week = cringe_date[cringe_date.find(',') + 2:]\n",
    "            month = months[month]\n",
    "            date = month + day\n",
    "            day_of_week = days_of_week[day_of_week]\n",
    "            return datetime.strptime('2024 '+ month + day, '%Y %m %d'), day_of_week\n",
    "    else:\n",
    "        return None, None\n",
    "\n",
    "final_df['Дата вылета'], final_df['День недели вылета'] = zip(*final_df['Дата вылета'].apply(normal_date))\n",
    "\n",
    "final_df['Дата прилета'], final_df['День недели прилета'] = zip(*final_df['Дата прилета'].apply(normal_date))"
   ]
  },
  {
   "cell_type": "code",
   "execution_count": 135,
   "metadata": {},
   "outputs": [],
   "source": [
    "#перевод цены билета в численный формат\n",
    "def normal_price(cringe):\n",
    "    cringe = cringe.replace('\\u2009\\u2060', '')\n",
    "    cringe = cringe.replace('₽', '')\n",
    "    return float(cringe)\n",
    "final_df['Цена билета'] = final_df['Цена билета'].apply(normal_price)"
   ]
  },
  {
   "cell_type": "code",
   "execution_count": 136,
   "metadata": {},
   "outputs": [],
   "source": [
    "#работа с размером багажа\n",
    "luggage ={'Без багажа': 0, 'Багаж 23кг' : 23,  'Багаж 32кг': 32, 'Багаж 2×23кг' : 46, 'Багаж 10кг' : 10, \n",
    " 'Багаж 20кг' : 20, 'Багаж 30кг' : 30, 'Багаж 15кг': 15}\n",
    "final_df['Багаж'] = final_df['Багаж'].apply(lambda x: luggage[x])\n"
   ]
  },
  {
   "cell_type": "code",
   "execution_count": 137,
   "metadata": {},
   "outputs": [],
   "source": [
    "#работа с возвратом билетов\n",
    "return_tickets = {'Без возврата' : 0, 'Возврат сосбором': 1}\n",
    "final_df['Возврат'] = final_df['Возврат'].apply(lambda x: return_tickets[x])"
   ]
  },
  {
   "cell_type": "code",
   "execution_count": 138,
   "metadata": {},
   "outputs": [],
   "source": [
    "#работа с ручной кладью\n",
    "hand_luggage = {'Ручная кладь 5кг': 5, 'Ручная кладь 10кг': 10}\n",
    "final_df['Ручная кладь'] = final_df['Ручная кладь'].apply(lambda x: hand_luggage[x])"
   ]
  },
  {
   "cell_type": "code",
   "execution_count": 139,
   "metadata": {},
   "outputs": [],
   "source": [
    "#работа с обменом билетов\n",
    "exchange = {'Без обмена': 0,'Обмен сосбором': 1}\n",
    "final_df['Обмен'] = final_df['Обмен'].apply(lambda x: exchange[x])"
   ]
  },
  {
   "cell_type": "code",
   "execution_count": 141,
   "metadata": {},
   "outputs": [],
   "source": [
    "#перевод времени в формат ЧЧ:ММ\n",
    "final_df['Время вылета'] = final_df['Время вылета'].apply(lambda x: datetime.strptime(x, '%H:%M').time())\n",
    "final_df['Время прилета'] = final_df['Время прилета'].apply(lambda x: datetime.strptime(x, '%H:%M').time())"
   ]
  },
  {
   "cell_type": "code",
   "execution_count": null,
   "metadata": {},
   "outputs": [],
   "source": [
    "#открытие датафрейма в браузере\n",
    "html_table = final_df.to_html()\n",
    "with open(\"df_table.html\", \"w\", encoding=\"utf-8\") as file:\n",
    "    file.write(html_table)\n",
    "webbrowser.open(\"df_table.html\")"
   ]
  }
 ],
 "metadata": {
  "kernelspec": {
   "display_name": "Python 3",
   "language": "python",
   "name": "python3"
  },
  "language_info": {
   "codemirror_mode": {
    "name": "ipython",
    "version": 3
   },
   "file_extension": ".py",
   "mimetype": "text/x-python",
   "name": "python",
   "nbconvert_exporter": "python",
   "pygments_lexer": "ipython3",
   "version": "3.11.8"
  }
 },
 "nbformat": 4,
 "nbformat_minor": 2
}
