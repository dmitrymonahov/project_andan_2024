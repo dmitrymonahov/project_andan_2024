{
 "cells": [
  {
   "cell_type": "code",
   "execution_count": 1,
   "metadata": {},
   "outputs": [
    {
     "name": "stderr",
     "output_type": "stream",
     "text": [
      "/Users/polzovatel/Library/Python/3.9/lib/python/site-packages/urllib3/__init__.py:34: NotOpenSSLWarning: urllib3 v2 only supports OpenSSL 1.1.1+, currently the 'ssl' module is compiled with 'LibreSSL 2.8.3'. See: https://github.com/urllib3/urllib3/issues/3020\n",
      "  warnings.warn(\n"
     ]
    }
   ],
   "source": [
    "from selenium import webdriver\n",
    "from selenium.webdriver.chrome.service import Service\n",
    "\n",
    "# Define the path to chromedriver.exe\n",
    "chrome_driver_path = '/Users/polzovatel/Downloads/chromedriver_mac_arm64'\n",
    "# Initialize the Chrome service with the specified executable path"
   ]
  },
  {
   "cell_type": "code",
   "execution_count": 2,
   "metadata": {},
   "outputs": [
    {
     "name": "stdout",
     "output_type": "stream",
     "text": [
      "Defaulting to user installation because normal site-packages is not writeable\n",
      "Requirement already satisfied: webdriver_manager in /Users/polzovatel/Library/Python/3.9/lib/python/site-packages (4.0.1)\n",
      "Requirement already satisfied: requests in /Users/polzovatel/Library/Python/3.9/lib/python/site-packages (from webdriver_manager) (2.31.0)\n",
      "Requirement already satisfied: python-dotenv in /Users/polzovatel/Library/Python/3.9/lib/python/site-packages (from webdriver_manager) (1.0.1)\n",
      "Requirement already satisfied: packaging in /Users/polzovatel/Library/Python/3.9/lib/python/site-packages (from webdriver_manager) (23.2)\n",
      "Requirement already satisfied: charset-normalizer<4,>=2 in /Users/polzovatel/Library/Python/3.9/lib/python/site-packages (from requests->webdriver_manager) (3.3.2)\n",
      "Requirement already satisfied: idna<4,>=2.5 in /Users/polzovatel/Library/Python/3.9/lib/python/site-packages (from requests->webdriver_manager) (3.6)\n",
      "Requirement already satisfied: urllib3<3,>=1.21.1 in /Users/polzovatel/Library/Python/3.9/lib/python/site-packages (from requests->webdriver_manager) (2.1.0)\n",
      "Requirement already satisfied: certifi>=2017.4.17 in /Users/polzovatel/Library/Python/3.9/lib/python/site-packages (from requests->webdriver_manager) (2023.11.17)\n"
     ]
    }
   ],
   "source": [
    "!pip install webdriver_manager\n",
    "from selenium import webdriver\n",
    "from selenium.webdriver.chrome.service import Service as ChromeService\n",
    "from webdriver_manager.chrome import ChromeDriverManager\n",
    "\n",
    "driver = webdriver.Chrome(service=ChromeService(ChromeDriverManager().install()))"
   ]
  },
  {
   "cell_type": "code",
   "execution_count": 3,
   "metadata": {},
   "outputs": [],
   "source": [
    "import numpy as np"
   ]
  },
  {
   "cell_type": "code",
   "execution_count": 4,
   "metadata": {},
   "outputs": [],
   "source": [
    "city_top_30 = [491, 75,\n",
    "78,\n",
    "58,\n",
    "29,\n",
    "33,\n",
    "93  ,\n",
    "47  ,\n",
    "34  ,\n",
    "31  ,\n",
    "6  ,\n",
    "74  ,\n",
    "46  ,\n",
    "86  ,\n",
    "21  ,\n",
    "95  ,\n",
    "98  ,\n",
    "81  ,\n",
    "68  ,\n",
    "62  ,\n",
    "23  ,\n",
    "49  ,\n",
    "55  ,\n",
    "102  ,\n",
    "77  ,\n",
    "59  ,\n",
    "64  ,\n",
    "28]"
   ]
  },
  {
   "cell_type": "code",
   "execution_count": 5,
   "metadata": {},
   "outputs": [],
   "source": [
    "city_top_10 = [491, 75,\n",
    "78,\n",
    "58,\n",
    "29,\n",
    "33,\n",
    "93  ,\n",
    "47  ,\n",
    "34  ,\n",
    "31  ,\n",
    "6]"
   ]
  },
  {
   "cell_type": "code",
   "execution_count": 6,
   "metadata": {},
   "outputs": [],
   "source": [
    "all_dates = []\n",
    "for day in range(1, 32):\n",
    "    for month in range(6, 9):\n",
    "        date = str(day).zfill(2) + str(month).zfill(2) + '2024'\n",
    "        all_dates.append(date)\n",
    "        \n",
    "        "
   ]
  },
  {
   "cell_type": "code",
   "execution_count": 7,
   "metadata": {},
   "outputs": [],
   "source": [
    "\n",
    "city_numbers = np.arange(1, 104)\n",
    "city_numbers = np.append(city_numbers, [252386, 10105, 556, 551, 537, 491])\n",
    "classes =  np.array(['Y'])"
   ]
  },
  {
   "cell_type": "code",
   "execution_count": 13,
   "metadata": {},
   "outputs": [],
   "source": [
    "all_url = []\n",
    "for date in all_dates:\n",
    "    for city_number_from in city_top_10:\n",
    "        for city_number_to in city_top_10:\n",
    "            for cl in classes:\n",
    "                all_url.append(f'https://avia.tutu.ru/f/Moskva/Moskva/?class={cl}&passengers=100&route[0]={city_number_from}-{date}-{city_number_to}&f-changes=direct')"
   ]
  },
  {
   "cell_type": "code",
   "execution_count": 14,
   "metadata": {},
   "outputs": [
    {
     "data": {
      "text/plain": [
       "11253"
      ]
     },
     "execution_count": 14,
     "metadata": {},
     "output_type": "execute_result"
    }
   ],
   "source": [
    "len(all_url)"
   ]
  },
  {
   "cell_type": "code",
   "execution_count": 15,
   "metadata": {},
   "outputs": [],
   "source": [
    "url =\"https://avia.tutu.ru/f/Moskva/Moskva/?class=Y&passengers=100&route[0]=491-30042024-6\"\n",
    "driver = webdriver.Chrome(service=Service(ChromeDriverManager().install()))\n",
    "driver.get(url)"
   ]
  },
  {
   "cell_type": "code",
   "execution_count": 29,
   "metadata": {},
   "outputs": [
    {
     "data": {
      "text/plain": [
       "[(1,\n",
       "  'https://avia.tutu.ru/f/Moskva/Moskva/?class=Y&passengers=100&route[0]=93-01062024-33&f-changes=direct'),\n",
       " (2,\n",
       "  'https://avia.tutu.ru/f/Moskva/Moskva/?class=Y&passengers=100&route[0]=93-01062024-47&f-changes=direct'),\n",
       " (3,\n",
       "  'https://avia.tutu.ru/f/Moskva/Moskva/?class=Y&passengers=100&route[0]=93-01062024-34&f-changes=direct'),\n",
       " (4,\n",
       "  'https://avia.tutu.ru/f/Moskva/Moskva/?class=Y&passengers=100&route[0]=93-01062024-31&f-changes=direct'),\n",
       " (5,\n",
       "  'https://avia.tutu.ru/f/Moskva/Moskva/?class=Y&passengers=100&route[0]=93-01062024-6&f-changes=direct'),\n",
       " (6,\n",
       "  'https://avia.tutu.ru/f/Moskva/Moskva/?class=Y&passengers=100&route[0]=47-01062024-491&f-changes=direct'),\n",
       " (7,\n",
       "  'https://avia.tutu.ru/f/Moskva/Moskva/?class=Y&passengers=100&route[0]=47-01062024-75&f-changes=direct'),\n",
       " (8,\n",
       "  'https://avia.tutu.ru/f/Moskva/Moskva/?class=Y&passengers=100&route[0]=47-01062024-78&f-changes=direct'),\n",
       " (9,\n",
       "  'https://avia.tutu.ru/f/Moskva/Moskva/?class=Y&passengers=100&route[0]=47-01062024-58&f-changes=direct'),\n",
       " (10,\n",
       "  'https://avia.tutu.ru/f/Moskva/Moskva/?class=Y&passengers=100&route[0]=47-01062024-29&f-changes=direct'),\n",
       " (11,\n",
       "  'https://avia.tutu.ru/f/Moskva/Moskva/?class=Y&passengers=100&route[0]=47-01062024-33&f-changes=direct'),\n",
       " (12,\n",
       "  'https://avia.tutu.ru/f/Moskva/Moskva/?class=Y&passengers=100&route[0]=47-01062024-93&f-changes=direct'),\n",
       " (13,\n",
       "  'https://avia.tutu.ru/f/Moskva/Moskva/?class=Y&passengers=100&route[0]=47-01062024-34&f-changes=direct'),\n",
       " (14,\n",
       "  'https://avia.tutu.ru/f/Moskva/Moskva/?class=Y&passengers=100&route[0]=47-01062024-31&f-changes=direct'),\n",
       " (15,\n",
       "  'https://avia.tutu.ru/f/Moskva/Moskva/?class=Y&passengers=100&route[0]=47-01062024-6&f-changes=direct'),\n",
       " (16,\n",
       "  'https://avia.tutu.ru/f/Moskva/Moskva/?class=Y&passengers=100&route[0]=34-01062024-491&f-changes=direct'),\n",
       " (17,\n",
       "  'https://avia.tutu.ru/f/Moskva/Moskva/?class=Y&passengers=100&route[0]=34-01062024-75&f-changes=direct'),\n",
       " (18,\n",
       "  'https://avia.tutu.ru/f/Moskva/Moskva/?class=Y&passengers=100&route[0]=34-01062024-78&f-changes=direct'),\n",
       " (19,\n",
       "  'https://avia.tutu.ru/f/Moskva/Moskva/?class=Y&passengers=100&route[0]=34-01062024-58&f-changes=direct'),\n",
       " (20,\n",
       "  'https://avia.tutu.ru/f/Moskva/Moskva/?class=Y&passengers=100&route[0]=34-01062024-29&f-changes=direct'),\n",
       " (21,\n",
       "  'https://avia.tutu.ru/f/Moskva/Moskva/?class=Y&passengers=100&route[0]=34-01062024-33&f-changes=direct'),\n",
       " (22,\n",
       "  'https://avia.tutu.ru/f/Moskva/Moskva/?class=Y&passengers=100&route[0]=34-01062024-93&f-changes=direct'),\n",
       " (23,\n",
       "  'https://avia.tutu.ru/f/Moskva/Moskva/?class=Y&passengers=100&route[0]=34-01062024-47&f-changes=direct'),\n",
       " (24,\n",
       "  'https://avia.tutu.ru/f/Moskva/Moskva/?class=Y&passengers=100&route[0]=34-01062024-31&f-changes=direct'),\n",
       " (25,\n",
       "  'https://avia.tutu.ru/f/Moskva/Moskva/?class=Y&passengers=100&route[0]=34-01062024-6&f-changes=direct'),\n",
       " (26,\n",
       "  'https://avia.tutu.ru/f/Moskva/Moskva/?class=Y&passengers=100&route[0]=31-01062024-491&f-changes=direct')]"
      ]
     },
     "execution_count": 29,
     "metadata": {},
     "output_type": "execute_result"
    }
   ],
   "source": [
    "from selenium.webdriver.common.by import By\n",
    "from selenium.webdriver.support.ui import WebDriverWait\n",
    "from selenium.webdriver.support import expected_conditions as EC\n",
    "from selenium.webdriver.common.keys import Keys\n",
    "import time\n",
    "import csv\n",
    "\n",
    "avialines_number_time_class = '_12cTPGo1vYiK8IrbamFFgQ'\n",
    "arr_dep_time_class = 'd8i1zeN9bxrnbQomir1Dj'\n",
    "tarrifs_class = '_1xxWhL8-KEnYS8yQVcU7Zk'\n",
    "from_to_time_class = '_2lkYsyOuoyKyvgjl91rWT7'\n",
    "\n",
    "test_url = all_url[71:100]\n",
    "\n",
    "file = open('/Users/polzovatel/Desktop/tuturu.txt', mode='a')\n",
    "\n",
    "\n",
    "info = []\n",
    "counter = 0\n",
    "\n",
    "for url in test_url:\n",
    "    driver = webdriver.Chrome(service=Service(ChromeDriverManager().install()))\n",
    "    driver.get(url)\n",
    "  \n",
    "    elements = driver.find_elements(By.CLASS_NAME, 'o-input')\n",
    "\n",
    "    last_height = driver.execute_script(\"return document.body.scrollHeight\")\n",
    "    while True:\n",
    "        driver.execute_script(\"window.scrollTo(0, document.body.scrollHeight);\")\n",
    "        time.sleep(3)  # Необходимо дать время для загрузки страницы через AJAX.\n",
    "        new_height = driver.execute_script(\"return document.body.scrollHeight\")\n",
    "        if new_height == last_height:\n",
    "            break  # Если высота страницы не меняется, это означает, что прокрутка достигла низа.\n",
    "        last_height = new_height\n",
    "    try:\n",
    "        elements_to_remove = driver.find_elements(By.CLASS_NAME,'_2dcATSbHWSpVBo57f7HeFv')\n",
    "        for p in elements_to_remove:\n",
    "            driver.execute_script(\"arguments[0].remove();\", p)\n",
    "    except:\n",
    "        continue\n",
    "    try:\n",
    "        element_to_remove = driver.find_element(By.CLASS_NAME,'_3DSS79lBmroSAp0dxOkGuv')\n",
    "        driver.execute_script(\"arguments[0].remove();\", element_to_remove)\n",
    "    except:\n",
    "        continue\n",
    "\n",
    "\n",
    "    get_ticket = driver.find_elements(By.CLASS_NAME, 'UFlg3tcFvqtPw3IuhhhM3')\n",
    "\n",
    "    for ticket in get_ticket[len(get_ticket)-1::-1]:\n",
    "        driver.execute_script(\"arguments[0].scrollIntoView(true);\", ticket)\n",
    "        driver.execute_script(\"window.scrollBy(0, -80)\")\n",
    "\n",
    "        ticket.click()\n",
    "\n",
    "        from_to_date_time = driver.find_element(By.CLASS_NAME, from_to_time_class).get_attribute('innerHTML')\n",
    "        \n",
    "        arr_dep_time = driver.find_element(By.CLASS_NAME, arr_dep_time_class).get_attribute('innerHTML')\n",
    "\n",
    "        avialines_number_time = driver.find_element(By.CLASS_NAME, avialines_number_time_class).get_attribute('innerHTML')\n",
    "\n",
    "        tarrifs = driver.find_elements(By.CLASS_NAME, tarrifs_class)\n",
    "        for p in tarrifs:\n",
    "            # info.append((from_to_date_time, avialines_number_time, arr_dep_time, p.get_attribute('innerHTML')))\n",
    "            file.writelines((from_to_date_time, avialines_number_time, arr_dep_time, p.get_attribute('innerHTML')))\n",
    "            file.write('\\n')\n",
    "        # f = driver.find_element(By.CLASS_NAME, 'o-view')\n",
    "\n",
    "        # info_of_ticket = f.get_attribute('innerHTML')\n",
    "\n",
    "        \n",
    "        # file.write(info_of_ticket)\n",
    "\n",
    "        try:\n",
    "            close_icon = driver.find_element(By.CLASS_NAME, 'o-popper-shadow')\n",
    "\n",
    "            close_icon.click()\n",
    "        except:\n",
    "            continue\n",
    "\n",
    "    counter += 1\n",
    "    info.append((counter, url))\n",
    "\n",
    "file.close()\n",
    "info"
   ]
  },
  {
   "cell_type": "code",
   "execution_count": 20,
   "metadata": {},
   "outputs": [
    {
     "data": {
      "text/plain": [
       "[(1,\n",
       "  'https://avia.tutu.ru/f/Moskva/Moskva/?class=Y&passengers=100&route[0]=491-01062024-75&f-changes=direct'),\n",
       " (2,\n",
       "  'https://avia.tutu.ru/f/Moskva/Moskva/?class=Y&passengers=100&route[0]=491-01062024-78&f-changes=direct'),\n",
       " (3,\n",
       "  'https://avia.tutu.ru/f/Moskva/Moskva/?class=Y&passengers=100&route[0]=491-01062024-58&f-changes=direct'),\n",
       " (4,\n",
       "  'https://avia.tutu.ru/f/Moskva/Moskva/?class=Y&passengers=100&route[0]=491-01062024-29&f-changes=direct'),\n",
       " (5,\n",
       "  'https://avia.tutu.ru/f/Moskva/Moskva/?class=Y&passengers=100&route[0]=491-01062024-33&f-changes=direct'),\n",
       " (6,\n",
       "  'https://avia.tutu.ru/f/Moskva/Moskva/?class=Y&passengers=100&route[0]=491-01062024-93&f-changes=direct'),\n",
       " (7,\n",
       "  'https://avia.tutu.ru/f/Moskva/Moskva/?class=Y&passengers=100&route[0]=491-01062024-47&f-changes=direct'),\n",
       " (8,\n",
       "  'https://avia.tutu.ru/f/Moskva/Moskva/?class=Y&passengers=100&route[0]=491-01062024-34&f-changes=direct'),\n",
       " (9,\n",
       "  'https://avia.tutu.ru/f/Moskva/Moskva/?class=Y&passengers=100&route[0]=491-01062024-31&f-changes=direct'),\n",
       " (10,\n",
       "  'https://avia.tutu.ru/f/Moskva/Moskva/?class=Y&passengers=100&route[0]=491-01062024-6&f-changes=direct'),\n",
       " (11,\n",
       "  'https://avia.tutu.ru/f/Moskva/Moskva/?class=Y&passengers=100&route[0]=75-01062024-491&f-changes=direct'),\n",
       " (12,\n",
       "  'https://avia.tutu.ru/f/Moskva/Moskva/?class=Y&passengers=100&route[0]=75-01062024-78&f-changes=direct'),\n",
       " (13,\n",
       "  'https://avia.tutu.ru/f/Moskva/Moskva/?class=Y&passengers=100&route[0]=75-01062024-58&f-changes=direct'),\n",
       " (14,\n",
       "  'https://avia.tutu.ru/f/Moskva/Moskva/?class=Y&passengers=100&route[0]=75-01062024-29&f-changes=direct'),\n",
       " (15,\n",
       "  'https://avia.tutu.ru/f/Moskva/Moskva/?class=Y&passengers=100&route[0]=75-01062024-33&f-changes=direct'),\n",
       " (16,\n",
       "  'https://avia.tutu.ru/f/Moskva/Moskva/?class=Y&passengers=100&route[0]=75-01062024-93&f-changes=direct'),\n",
       " (17,\n",
       "  'https://avia.tutu.ru/f/Moskva/Moskva/?class=Y&passengers=100&route[0]=75-01062024-47&f-changes=direct'),\n",
       " (18,\n",
       "  'https://avia.tutu.ru/f/Moskva/Moskva/?class=Y&passengers=100&route[0]=75-01062024-34&f-changes=direct'),\n",
       " (19,\n",
       "  'https://avia.tutu.ru/f/Moskva/Moskva/?class=Y&passengers=100&route[0]=75-01062024-31&f-changes=direct'),\n",
       " (20,\n",
       "  'https://avia.tutu.ru/f/Moskva/Moskva/?class=Y&passengers=100&route[0]=75-01062024-6&f-changes=direct'),\n",
       " (21,\n",
       "  'https://avia.tutu.ru/f/Moskva/Moskva/?class=Y&passengers=100&route[0]=78-01062024-491&f-changes=direct'),\n",
       " (22,\n",
       "  'https://avia.tutu.ru/f/Moskva/Moskva/?class=Y&passengers=100&route[0]=78-01062024-75&f-changes=direct'),\n",
       " (23,\n",
       "  'https://avia.tutu.ru/f/Moskva/Moskva/?class=Y&passengers=100&route[0]=78-01062024-58&f-changes=direct'),\n",
       " (24,\n",
       "  'https://avia.tutu.ru/f/Moskva/Moskva/?class=Y&passengers=100&route[0]=78-01062024-29&f-changes=direct'),\n",
       " (25,\n",
       "  'https://avia.tutu.ru/f/Moskva/Moskva/?class=Y&passengers=100&route[0]=78-01062024-33&f-changes=direct'),\n",
       " (26,\n",
       "  'https://avia.tutu.ru/f/Moskva/Moskva/?class=Y&passengers=100&route[0]=78-01062024-93&f-changes=direct'),\n",
       " (27,\n",
       "  'https://avia.tutu.ru/f/Moskva/Moskva/?class=Y&passengers=100&route[0]=78-01062024-47&f-changes=direct'),\n",
       " (28,\n",
       "  'https://avia.tutu.ru/f/Moskva/Moskva/?class=Y&passengers=100&route[0]=78-01062024-34&f-changes=direct'),\n",
       " (29,\n",
       "  'https://avia.tutu.ru/f/Moskva/Moskva/?class=Y&passengers=100&route[0]=78-01062024-31&f-changes=direct'),\n",
       " (30,\n",
       "  'https://avia.tutu.ru/f/Moskva/Moskva/?class=Y&passengers=100&route[0]=78-01062024-6&f-changes=direct'),\n",
       " (31,\n",
       "  'https://avia.tutu.ru/f/Moskva/Moskva/?class=Y&passengers=100&route[0]=58-01062024-491&f-changes=direct'),\n",
       " (32,\n",
       "  'https://avia.tutu.ru/f/Moskva/Moskva/?class=Y&passengers=100&route[0]=58-01062024-75&f-changes=direct'),\n",
       " (33,\n",
       "  'https://avia.tutu.ru/f/Moskva/Moskva/?class=Y&passengers=100&route[0]=58-01062024-78&f-changes=direct'),\n",
       " (34,\n",
       "  'https://avia.tutu.ru/f/Moskva/Moskva/?class=Y&passengers=100&route[0]=58-01062024-29&f-changes=direct'),\n",
       " (35,\n",
       "  'https://avia.tutu.ru/f/Moskva/Moskva/?class=Y&passengers=100&route[0]=58-01062024-33&f-changes=direct'),\n",
       " (36,\n",
       "  'https://avia.tutu.ru/f/Moskva/Moskva/?class=Y&passengers=100&route[0]=58-01062024-93&f-changes=direct'),\n",
       " (37,\n",
       "  'https://avia.tutu.ru/f/Moskva/Moskva/?class=Y&passengers=100&route[0]=58-01062024-47&f-changes=direct'),\n",
       " (38,\n",
       "  'https://avia.tutu.ru/f/Moskva/Moskva/?class=Y&passengers=100&route[0]=58-01062024-34&f-changes=direct'),\n",
       " (39,\n",
       "  'https://avia.tutu.ru/f/Moskva/Moskva/?class=Y&passengers=100&route[0]=58-01062024-31&f-changes=direct'),\n",
       " (40,\n",
       "  'https://avia.tutu.ru/f/Moskva/Moskva/?class=Y&passengers=100&route[0]=58-01062024-6&f-changes=direct'),\n",
       " (41,\n",
       "  'https://avia.tutu.ru/f/Moskva/Moskva/?class=Y&passengers=100&route[0]=29-01062024-491&f-changes=direct'),\n",
       " (42,\n",
       "  'https://avia.tutu.ru/f/Moskva/Moskva/?class=Y&passengers=100&route[0]=29-01062024-75&f-changes=direct'),\n",
       " (43,\n",
       "  'https://avia.tutu.ru/f/Moskva/Moskva/?class=Y&passengers=100&route[0]=29-01062024-78&f-changes=direct'),\n",
       " (44,\n",
       "  'https://avia.tutu.ru/f/Moskva/Moskva/?class=Y&passengers=100&route[0]=29-01062024-58&f-changes=direct'),\n",
       " (45,\n",
       "  'https://avia.tutu.ru/f/Moskva/Moskva/?class=Y&passengers=100&route[0]=29-01062024-93&f-changes=direct'),\n",
       " (46,\n",
       "  'https://avia.tutu.ru/f/Moskva/Moskva/?class=Y&passengers=100&route[0]=29-01062024-47&f-changes=direct'),\n",
       " (47,\n",
       "  'https://avia.tutu.ru/f/Moskva/Moskva/?class=Y&passengers=100&route[0]=29-01062024-34&f-changes=direct'),\n",
       " (48,\n",
       "  'https://avia.tutu.ru/f/Moskva/Moskva/?class=Y&passengers=100&route[0]=29-01062024-6&f-changes=direct'),\n",
       " (49,\n",
       "  'https://avia.tutu.ru/f/Moskva/Moskva/?class=Y&passengers=100&route[0]=33-01062024-75&f-changes=direct'),\n",
       " (50,\n",
       "  'https://avia.tutu.ru/f/Moskva/Moskva/?class=Y&passengers=100&route[0]=33-01062024-78&f-changes=direct'),\n",
       " (51,\n",
       "  'https://avia.tutu.ru/f/Moskva/Moskva/?class=Y&passengers=100&route[0]=33-01062024-58&f-changes=direct'),\n",
       " (52,\n",
       "  'https://avia.tutu.ru/f/Moskva/Moskva/?class=Y&passengers=100&route[0]=33-01062024-29&f-changes=direct'),\n",
       " (53,\n",
       "  'https://avia.tutu.ru/f/Moskva/Moskva/?class=Y&passengers=100&route[0]=33-01062024-93&f-changes=direct'),\n",
       " (54,\n",
       "  'https://avia.tutu.ru/f/Moskva/Moskva/?class=Y&passengers=100&route[0]=33-01062024-47&f-changes=direct'),\n",
       " (55,\n",
       "  'https://avia.tutu.ru/f/Moskva/Moskva/?class=Y&passengers=100&route[0]=33-01062024-31&f-changes=direct'),\n",
       " (56,\n",
       "  'https://avia.tutu.ru/f/Moskva/Moskva/?class=Y&passengers=100&route[0]=33-01062024-6&f-changes=direct'),\n",
       " (57,\n",
       "  'https://avia.tutu.ru/f/Moskva/Moskva/?class=Y&passengers=100&route[0]=93-01062024-491&f-changes=direct'),\n",
       " (58,\n",
       "  'https://avia.tutu.ru/f/Moskva/Moskva/?class=Y&passengers=100&route[0]=93-01062024-75&f-changes=direct'),\n",
       " (59,\n",
       "  'https://avia.tutu.ru/f/Moskva/Moskva/?class=Y&passengers=100&route[0]=93-01062024-78&f-changes=direct'),\n",
       " (60,\n",
       "  'https://avia.tutu.ru/f/Moskva/Moskva/?class=Y&passengers=100&route[0]=93-01062024-58&f-changes=direct'),\n",
       " (61,\n",
       "  'https://avia.tutu.ru/f/Moskva/Moskva/?class=Y&passengers=100&route[0]=93-01062024-29&f-changes=direct')]"
      ]
     },
     "execution_count": 20,
     "metadata": {},
     "output_type": "execute_result"
    }
   ],
   "source": [
    "info"
   ]
  },
  {
   "cell_type": "code",
   "execution_count": 28,
   "metadata": {},
   "outputs": [
    {
     "data": {
      "text/plain": [
       "['https://avia.tutu.ru/f/Moskva/Moskva/?class=Y&passengers=100&route[0]=93-01062024-29&f-changes=direct',\n",
       " 'https://avia.tutu.ru/f/Moskva/Moskva/?class=Y&passengers=100&route[0]=93-01062024-33&f-changes=direct',\n",
       " 'https://avia.tutu.ru/f/Moskva/Moskva/?class=Y&passengers=100&route[0]=93-01062024-93&f-changes=direct',\n",
       " 'https://avia.tutu.ru/f/Moskva/Moskva/?class=Y&passengers=100&route[0]=93-01062024-47&f-changes=direct',\n",
       " 'https://avia.tutu.ru/f/Moskva/Moskva/?class=Y&passengers=100&route[0]=93-01062024-34&f-changes=direct',\n",
       " 'https://avia.tutu.ru/f/Moskva/Moskva/?class=Y&passengers=100&route[0]=93-01062024-31&f-changes=direct',\n",
       " 'https://avia.tutu.ru/f/Moskva/Moskva/?class=Y&passengers=100&route[0]=93-01062024-6&f-changes=direct',\n",
       " 'https://avia.tutu.ru/f/Moskva/Moskva/?class=Y&passengers=100&route[0]=47-01062024-491&f-changes=direct',\n",
       " 'https://avia.tutu.ru/f/Moskva/Moskva/?class=Y&passengers=100&route[0]=47-01062024-75&f-changes=direct',\n",
       " 'https://avia.tutu.ru/f/Moskva/Moskva/?class=Y&passengers=100&route[0]=47-01062024-78&f-changes=direct',\n",
       " 'https://avia.tutu.ru/f/Moskva/Moskva/?class=Y&passengers=100&route[0]=47-01062024-58&f-changes=direct',\n",
       " 'https://avia.tutu.ru/f/Moskva/Moskva/?class=Y&passengers=100&route[0]=47-01062024-29&f-changes=direct',\n",
       " 'https://avia.tutu.ru/f/Moskva/Moskva/?class=Y&passengers=100&route[0]=47-01062024-33&f-changes=direct',\n",
       " 'https://avia.tutu.ru/f/Moskva/Moskva/?class=Y&passengers=100&route[0]=47-01062024-93&f-changes=direct',\n",
       " 'https://avia.tutu.ru/f/Moskva/Moskva/?class=Y&passengers=100&route[0]=47-01062024-47&f-changes=direct',\n",
       " 'https://avia.tutu.ru/f/Moskva/Moskva/?class=Y&passengers=100&route[0]=47-01062024-34&f-changes=direct',\n",
       " 'https://avia.tutu.ru/f/Moskva/Moskva/?class=Y&passengers=100&route[0]=47-01062024-31&f-changes=direct',\n",
       " 'https://avia.tutu.ru/f/Moskva/Moskva/?class=Y&passengers=100&route[0]=47-01062024-6&f-changes=direct',\n",
       " 'https://avia.tutu.ru/f/Moskva/Moskva/?class=Y&passengers=100&route[0]=34-01062024-491&f-changes=direct',\n",
       " 'https://avia.tutu.ru/f/Moskva/Moskva/?class=Y&passengers=100&route[0]=34-01062024-75&f-changes=direct']"
      ]
     },
     "execution_count": 28,
     "metadata": {},
     "output_type": "execute_result"
    }
   ],
   "source": [
    "all_url[70:90]"
   ]
  },
  {
   "cell_type": "markdown",
   "metadata": {},
   "source": []
  }
 ],
 "metadata": {
  "kernelspec": {
   "display_name": "Python 3",
   "language": "python",
   "name": "python3"
  },
  "language_info": {
   "codemirror_mode": {
    "name": "ipython",
    "version": 3
   },
   "file_extension": ".py",
   "mimetype": "text/x-python",
   "name": "python",
   "nbconvert_exporter": "python",
   "pygments_lexer": "ipython3",
   "version": "3.9.6"
  }
 },
 "nbformat": 4,
 "nbformat_minor": 2
}
